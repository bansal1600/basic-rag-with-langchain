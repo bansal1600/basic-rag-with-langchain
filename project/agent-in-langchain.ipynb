{
 "cells": [
  {
   "cell_type": "code",
   "execution_count": 3,
   "id": "b9fb79dd",
   "metadata": {},
   "outputs": [
    {
     "data": {
      "text/plain": [
       "True"
      ]
     },
     "execution_count": 3,
     "metadata": {},
     "output_type": "execute_result"
    }
   ],
   "source": [
    "from langchain_openai import ChatOpenAI\n",
    "from langchain_core.tools import tool\n",
    "import requests\n",
    "from dotenv import load_dotenv\n",
    "\n",
    "load_dotenv()"
   ]
  },
  {
   "cell_type": "code",
   "execution_count": 8,
   "id": "30b400fe",
   "metadata": {},
   "outputs": [],
   "source": [
    "from langchain_community.tools import DuckDuckGoSearchRun\n",
    "\n",
    "search_tool = DuckDuckGoSearchRun()\n",
    "\n",
    "result = search_tool.invoke('top new right now in Idia')"
   ]
  },
  {
   "cell_type": "code",
   "execution_count": 12,
   "id": "46f44db0",
   "metadata": {},
   "outputs": [],
   "source": [
    "llm = ChatOpenAI(model=\"gpt-4o-mini\")"
   ]
  },
  {
   "cell_type": "markdown",
   "id": "67b7cfa6",
   "metadata": {},
   "source": [
    " * ReAct is design framewrok designed for an LLM to do reasoning + action.\n",
    " * Thought -> Action -> Observation\n",
    " * ReAct is helpful in multi-step problem and perform Tool-augmented tasks\n",
    " \n",
    " * Thought -> Action -> Observation this is done by AgentExecutor\n",
    "    * sends input and previous message to the agent\n",
    "    * gets the next action from agent\n",
    "    * execute the tool with provided input\n",
    "    * adds the tool's observation basck to into the history\n",
    "    * Loops again with updated history until the agent says Final Answer"
   ]
  },
  {
   "cell_type": "code",
   "execution_count": 13,
   "id": "385ec0be",
   "metadata": {},
   "outputs": [
    {
     "name": "stderr",
     "output_type": "stream",
     "text": [
      "c:\\Users\\gabans26\\AppData\\Local\\Programs\\Python\\Python311\\Lib\\site-packages\\langsmith\\client.py:241: LangSmithMissingAPIKeyWarning: API key must be provided when using hosted LangSmith API\n",
      "  warnings.warn(\n"
     ]
    },
    {
     "name": "stdout",
     "output_type": "stream",
     "text": [
      "\n",
      "\n",
      "\u001b[1m> Entering new AgentExecutor chain...\u001b[0m\n",
      "\u001b[32;1m\u001b[1;3mTo find options for traveling from Jaipur to Delhi and then to Goa, I need to consider various modes of transportation like flights, trains, and buses. I will look for current travel options and routes to provide the best suggestions.\n",
      "\n",
      "Action: duckduckgo_search  \n",
      "Action Input: \"how to travel from Jaipur to Delhi to Goa options\"  \u001b[0m\u001b[36;1m\u001b[1;3mBus travel to Goa from Jaipur is a cost-effective option for those seeking to save money. There are several transport companies, including RSRTC, and the trip lasts roughly 22-24 hours. Although they may take longer to get there than planes or trains, contemporary buses come equipped with several amenities like restrooms, air conditioning, Wi ... \"Travel from Rajasthan to Goa with ease! Fly from Jaipur or Udaipur to Goa in 2-3 hours—quick and comfy. Or take a scenic train from Jaipur to Madgaon, 24-30 hours of adventure. ... Udaipur, Jaipur and Jodhpur are the three cities in Rajasthan, from where you'd have a flight options to Goa, but all of them have connecting flights via Delhi ... Get all the information for your flight: Best flight ticket prices, airlines, flight deals on Jaipur to Goa airfare, the best time to book tickets, arrival & destination cities, airports, food on Jaipur Goa flight, travel time in hours/minutes, distance in km and time table. Book Jaipur to Goa round trip at a discounted price from ixigo. Cheap Flights from Jaipur (JAI) to Goa (GOI) start at $67 for one-way and $143 for round trip. Earn your airline miles on top of our rewards! Buses to Goa are available in a spread of patterns and costs from secure Volvo buses with air conditioning to fundamental sleeper coaches. Depending on where you depart from the journey ought to take 10 to 15 hours. Buses for instance travel 12-14 hours from Mumbai to Goa and 12-13 hours from Bangalore to Goa.\u001b[0m\u001b[32;1m\u001b[1;3mFrom the search results, it seems that there are three main ways to travel from Jaipur to Goa, with a stop in Delhi:\n",
      "\n",
      "1. **By Air**: You can fly from Jaipur (JAI) to Goa (GOI) with a possible layover in Delhi. The flight duration is approximately 2-3 hours, making it the quickest option.\n",
      "\n",
      "2. **By Train**: Traveling by train from Jaipur to Madgaon (the nearest station to Goa) takes about 24-30 hours. This is a scenic and adventure-filled option, though it requires more time than flying.\n",
      "\n",
      "3. **By Bus**: There are bus services available from Jaipur to Goa via Delhi. The journey can take about 22-24 hours, and while it is the most cost-effective option, it is also the longest.\n",
      "\n",
      "Thought: I now have the three travel options.\n",
      "Final Answer: The three ways to travel from Jaipur to Delhi and then to Goa are: 1) By air (fastest), 2) By train (scenic), and 3) By bus (cost-effective).\u001b[0m\n",
      "\n",
      "\u001b[1m> Finished chain.\u001b[0m\n",
      "{'input': '3 ways to reach goa to delhi from jaipur', 'output': 'The three ways to travel from Jaipur to Delhi and then to Goa are: 1) By air (fastest), 2) By train (scenic), and 3) By bus (cost-effective).'}\n"
     ]
    }
   ],
   "source": [
    "from langchain.agents import create_react_agent, AgentExecutor\n",
    "from langchain import hub # already predefined promt here\n",
    "\n",
    "prompt = hub.pull(\"hwchase17/react\") #pull the standard ReAct agent prompt\n",
    "\n",
    "agent = create_react_agent(\n",
    "    llm=llm,\n",
    "    tools=[search_tool],\n",
    "    prompt=prompt\n",
    ")\n",
    "\n",
    "agent_executor = AgentExecutor(\n",
    "    agent=agent,\n",
    "    tools=[search_tool],\n",
    "    verbose=True\n",
    ")\n",
    "\n",
    "response = agent_executor.invoke(\n",
    "    {\"input\":\"3 ways to reach goa to delhi from jaipur\"}\n",
    ")\n",
    "\n",
    "print(response)\n"
   ]
  },
  {
   "cell_type": "code",
   "execution_count": null,
   "id": "f5ce9947",
   "metadata": {},
   "outputs": [],
   "source": []
  }
 ],
 "metadata": {
  "kernelspec": {
   "display_name": "Python 3",
   "language": "python",
   "name": "python3"
  },
  "language_info": {
   "codemirror_mode": {
    "name": "ipython",
    "version": 3
   },
   "file_extension": ".py",
   "mimetype": "text/x-python",
   "name": "python",
   "nbconvert_exporter": "python",
   "pygments_lexer": "ipython3",
   "version": "3.11.4"
  }
 },
 "nbformat": 4,
 "nbformat_minor": 5
}
